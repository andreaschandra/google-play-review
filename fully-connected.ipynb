{
 "cells": [
  {
   "cell_type": "code",
   "execution_count": 43,
   "metadata": {},
   "outputs": [],
   "source": [
    "import glob\n",
    "import re\n",
    "import pickle\n",
    "import string\n",
    "\n",
    "import pandas as pd\n",
    "import numpy as np\n",
    "import matplotlib.pyplot as plt\n",
    "import seaborn as sns\n",
    "\n",
    "from nltk.tokenize import word_tokenize\n",
    "\n",
    "import torch\n",
    "import torch.nn as nn\n",
    "import torch.nn.functional as F\n",
    "import torch.optim as optim\n",
    "from torch.utils.data import DataLoader\n",
    "\n",
    "%matplotlib inline"
   ]
  },
  {
   "cell_type": "code",
   "execution_count": 2,
   "metadata": {},
   "outputs": [],
   "source": [
    "data_path = '../../Dataset/jakartaresearch'"
   ]
  },
  {
   "cell_type": "code",
   "execution_count": 3,
   "metadata": {},
   "outputs": [],
   "source": [
    "files = glob.glob(data_path + '/indonesian-sentiment/*')"
   ]
  },
  {
   "cell_type": "code",
   "execution_count": 4,
   "metadata": {},
   "outputs": [
    {
     "data": {
      "text/plain": [
       "['../../Dataset/jakartaresearch/indonesian-sentiment/testing.res',\n",
       " '../../Dataset/jakartaresearch/indonesian-sentiment/training.res']"
      ]
     },
     "execution_count": 4,
     "metadata": {},
     "output_type": "execute_result"
    }
   ],
   "source": [
    "files"
   ]
  },
  {
   "cell_type": "code",
   "execution_count": 5,
   "metadata": {},
   "outputs": [],
   "source": [
    "train = pickle.load(open(files[1], 'rb'))\n",
    "test = pickle.load(open(files[0], 'rb'))"
   ]
  },
  {
   "cell_type": "code",
   "execution_count": 6,
   "metadata": {},
   "outputs": [
    {
     "data": {
      "image/png": "[encoded data removed]",
      "text/plain": [
       "<Figure size 432x288 with 1 Axes>"
      ]
     },
     "metadata": {},
     "output_type": "display_data"
    }
   ],
   "source": [
    "d_train = pd.DataFrame(data={'content': train[0], 'label': train[1]})\n",
    "d_test = pd.DataFrame(data={'content': test[0], 'label': test[1]})\n",
    "\n",
    "d_train['label_num'] = d_train.label.apply(lambda x: int(re.sub('Rated | stars out of five stars', '', x)))\n",
    "\n",
    "d_train = d_train[d_train['label_num'] != 3]\n",
    "\n",
    "d_test['label_num'] = d_test.label.apply(lambda x: int(re.sub('Rated | stars out of five stars', '', x)))\n",
    "\n",
    "d_test = d_test[d_test['label_num'] != 3]\n",
    "\n",
    "plot = sns.barplot(y = d_train.label_num.value_counts(), x = d_train.label_num.value_counts().index)\n",
    "plot.get_figure().savefig('train_dist.png')"
   ]
  },
  {
   "cell_type": "code",
   "execution_count": 7,
   "metadata": {},
   "outputs": [
    {
     "data": {
      "image/png": "[encoded data removed]",
      "text/plain": [
       "<Figure size 432x288 with 1 Axes>"
      ]
     },
     "metadata": {},
     "output_type": "display_data"
    }
   ],
   "source": [
    "plot = sns.barplot(y = d_test.label_num.value_counts(), x = d_test.label_num.value_counts().index)\n",
    "plot.get_figure().savefig('test_dist.png')"
   ]
  },
  {
   "cell_type": "code",
   "execution_count": 8,
   "metadata": {},
   "outputs": [],
   "source": [
    "d_train.loc[d_train.label_num > 3, 'sentiment'] = 1\n",
    "d_train.loc[d_train.label_num < 3, 'sentiment'] = 0"
   ]
  },
  {
   "cell_type": "code",
   "execution_count": 9,
   "metadata": {},
   "outputs": [],
   "source": [
    "d_test.loc[d_test.label_num > 3, 'sentiment'] = 1\n",
    "d_test.loc[d_test.label_num < 3, 'sentiment'] = 0"
   ]
  },
  {
   "cell_type": "code",
   "execution_count": 10,
   "metadata": {},
   "outputs": [
    {
     "data": {
      "image/png": "[encoded data removed]",
      "text/plain": [
       "<Figure size 432x288 with 1 Axes>"
      ]
     },
     "metadata": {},
     "output_type": "display_data"
    }
   ],
   "source": [
    "plot = sns.barplot(y = d_train.sentiment.value_counts(), x = d_train.sentiment.value_counts().index)\n",
    "plot.get_figure().savefig('train_sentiment_dist.png')"
   ]
  },
  {
   "cell_type": "code",
   "execution_count": 11,
   "metadata": {},
   "outputs": [
    {
     "data": {
      "image/png": "[encoded data removed]",
      "text/plain": [
       "<Figure size 432x288 with 1 Axes>"
      ]
     },
     "metadata": {},
     "output_type": "display_data"
    }
   ],
   "source": [
    "plot = sns.barplot(y = d_test.sentiment.value_counts(), x = d_test.sentiment.value_counts().index)\n",
    "plot.get_figure().savefig('test_sentiment_dist.png')"
   ]
  },
  {
   "cell_type": "code",
   "execution_count": 12,
   "metadata": {},
   "outputs": [
    {
     "data": {
      "text/plain": [
       "(6747, 4)"
      ]
     },
     "execution_count": 12,
     "metadata": {},
     "output_type": "execute_result"
    }
   ],
   "source": [
    "d_train.shape"
   ]
  },
  {
   "cell_type": "code",
   "execution_count": 13,
   "metadata": {},
   "outputs": [
    {
     "data": {
      "text/plain": [
       "(2886, 4)"
      ]
     },
     "execution_count": 13,
     "metadata": {},
     "output_type": "execute_result"
    }
   ],
   "source": [
    "d_test.shape"
   ]
  },
  {
   "cell_type": "markdown",
   "metadata": {},
   "source": [
    "## Cleansing"
   ]
  },
  {
   "cell_type": "code",
   "execution_count": 14,
   "metadata": {},
   "outputs": [],
   "source": [
    "def remove_punctuation(word):\n",
    "    for punkt in list(string.punctuation):\n",
    "        word = word.replace(punkt, '')\n",
    "        \n",
    "    return word"
   ]
  },
  {
   "cell_type": "code",
   "execution_count": 15,
   "metadata": {},
   "outputs": [],
   "source": [
    "def cleansing(text):\n",
    "    text = text.lower()\n",
    "    word_list = word_tokenize(text)\n",
    "    word_list = [word for word in word_list if len(word) > 1]\n",
    "    word_list = [remove_punctuation(word) for word in word_list]\n",
    "    text = ' '.join(word_list)\n",
    "    \n",
    "    return text"
   ]
  },
  {
   "cell_type": "code",
   "execution_count": 16,
   "metadata": {},
   "outputs": [],
   "source": [
    "d_train['content_cleansing'] = d_train.content.apply(cleansing)\n",
    "\n",
    "d_test['content_cleansing'] = d_test.content.apply(cleansing)"
   ]
  },
  {
   "cell_type": "code",
   "execution_count": 17,
   "metadata": {},
   "outputs": [
    {
     "data": {
      "text/plain": [
       "<matplotlib.axes._subplots.AxesSubplot at 0x7f0aa40a6d30>"
      ]
     },
     "execution_count": 17,
     "metadata": {},
     "output_type": "execute_result"
    },
    {
     "data": {
      "image/png": "[encoded data removed]",
      "text/plain": [
       "<Figure size 432x288 with 1 Axes>"
      ]
     },
     "metadata": {},
     "output_type": "display_data"
    }
   ],
   "source": [
    "sns.distplot(d_train.content_cleansing.apply(lambda x: len(word_tokenize(x))))"
   ]
  },
  {
   "cell_type": "code",
   "execution_count": 18,
   "metadata": {},
   "outputs": [],
   "source": [
    "d_train['cont_clean_len_token'] = d_train.content_cleansing.apply(lambda x: len(word_tokenize(x)))"
   ]
  },
  {
   "cell_type": "code",
   "execution_count": 19,
   "metadata": {},
   "outputs": [],
   "source": [
    "d_test['cont_clean_len_token'] = d_test.content_cleansing.apply(lambda x: len(word_tokenize(x)))"
   ]
  },
  {
   "cell_type": "code",
   "execution_count": 20,
   "metadata": {},
   "outputs": [],
   "source": [
    "d_train.drop(d_train[d_train['cont_clean_len_token'] == 0].index, axis = 0, inplace=True)"
   ]
  },
  {
   "cell_type": "code",
   "execution_count": 21,
   "metadata": {},
   "outputs": [],
   "source": [
    "d_test.drop(d_test[d_test['cont_clean_len_token'] == 0].index, axis = 0, inplace = True)"
   ]
  },
  {
   "cell_type": "code",
   "execution_count": 22,
   "metadata": {},
   "outputs": [],
   "source": [
    "d_train.reset_index(drop=True, inplace=True)\n",
    "d_test.reset_index(drop=True, inplace=True)"
   ]
  },
  {
   "cell_type": "code",
   "execution_count": 23,
   "metadata": {},
   "outputs": [
    {
     "data": {
      "text/plain": [
       "<matplotlib.axes._subplots.AxesSubplot at 0x7f0aa404e588>"
      ]
     },
     "execution_count": 23,
     "metadata": {},
     "output_type": "execute_result"
    },
    {
     "data": {
      "image/png": "[encoded data removed]",
      "text/plain": [
       "<Figure size 432x288 with 1 Axes>"
      ]
     },
     "metadata": {},
     "output_type": "display_data"
    }
   ],
   "source": [
    "sns.barplot(y = d_train.sentiment.value_counts(), x = d_train.sentiment.value_counts().index)"
   ]
  },
  {
   "cell_type": "code",
   "execution_count": 24,
   "metadata": {},
   "outputs": [
    {
     "data": {
      "text/plain": [
       "<matplotlib.axes._subplots.AxesSubplot at 0x7f0aa432b0b8>"
      ]
     },
     "execution_count": 24,
     "metadata": {},
     "output_type": "execute_result"
    },
    {
     "data": {
      "image/png": "[encoded data removed]",
      "text/plain": [
       "<Figure size 432x288 with 1 Axes>"
      ]
     },
     "metadata": {},
     "output_type": "display_data"
    }
   ],
   "source": [
    "sns.barplot(y = d_test.sentiment.value_counts(), x = d_test.sentiment.value_counts().index)"
   ]
  },
  {
   "cell_type": "code",
   "execution_count": 25,
   "metadata": {},
   "outputs": [],
   "source": [
    "text = \" \".join(d_train.content_cleansing)"
   ]
  },
  {
   "cell_type": "code",
   "execution_count": 26,
   "metadata": {},
   "outputs": [],
   "source": [
    "idx2word = dict((i, w) for i, w in enumerate(set(word_tokenize(text)), 1))\n",
    "word2idx = dict((w, i) for i, w in enumerate(set(word_tokenize(text)), 1))"
   ]
  },
  {
   "cell_type": "code",
   "execution_count": 27,
   "metadata": {},
   "outputs": [],
   "source": [
    "def from_word_to_idx(sentence):\n",
    "    idx = []\n",
    "    for word in sentence:\n",
    "        try:\n",
    "            idx.append(word2idx[word])\n",
    "        except:\n",
    "            pass\n",
    "    return idx"
   ]
  },
  {
   "cell_type": "code",
   "execution_count": 28,
   "metadata": {},
   "outputs": [],
   "source": [
    "class Dataset():\n",
    "    def __init__(self):\n",
    "        self.lookup = {\n",
    "            'train': (d_train, len(d_train)),\n",
    "            'test': (d_test, len(d_test))\n",
    "        }\n",
    "        self.set_split('train')\n",
    "    \n",
    "    def set_split(self, split = 'train'):\n",
    "        self._target_split = split\n",
    "        self._target_df, self._target_size = self.lookup[split]\n",
    "    \n",
    "    def __getitem__(self, index):\n",
    "        sentence = self._target_df.loc[index, 'content_cleansing']\n",
    "        y = self._target_df.loc[index, 'sentiment']\n",
    "        \n",
    "        x = from_word_to_idx(word_tokenize(sentence))\n",
    "        len_x = len(x)\n",
    "        if len_x > 50:\n",
    "            x = x[:50]\n",
    "        else:\n",
    "            pad = 50 - len_x\n",
    "            x = x + [0] * pad\n",
    "        \n",
    "        return {\n",
    "            'x': torch.FloatTensor(x),\n",
    "            'y': int(y)\n",
    "        }\n",
    "    def __len__(self):\n",
    "        return self._target_size"
   ]
  },
  {
   "cell_type": "code",
   "execution_count": 29,
   "metadata": {},
   "outputs": [],
   "source": [
    "class Classifier(nn.Module):\n",
    "    def __init__(self):\n",
    "        super(Classifier, self).__init__()\n",
    "        self.NeurlNet = nn.Sequential(\n",
    "            nn.Linear(50, 40),\n",
    "            nn.ReLU(),\n",
    "            nn.Linear(40, 30),\n",
    "            nn.ReLU(),\n",
    "            nn.Linear(30, 1)\n",
    "        )\n",
    "    \n",
    "    def forward(self, input_, apply_sigmoid=False):\n",
    "        x = self.NeurlNet(input_)\n",
    "        x = x.squeeze()\n",
    "        if apply_sigmoid:\n",
    "            x = torch.sigmoid(x)\n",
    "        \n",
    "        return x"
   ]
  },
  {
   "cell_type": "code",
   "execution_count": 30,
   "metadata": {},
   "outputs": [],
   "source": [
    "def compute_accuracy(y_pred, y_target):\n",
    "    y_target = y_target.cpu()\n",
    "    y_pred_indices = (torch.sigmoid(y_pred)>0.5).cpu().long() #.max(dim=1)[1]\n",
    "    n_correct = torch.eq(y_pred_indices, y_target).sum().item()\n",
    "    return n_correct / len(y_pred_indices) * 100"
   ]
  },
  {
   "cell_type": "code",
   "execution_count": 31,
   "metadata": {},
   "outputs": [],
   "source": [
    "classifier = Classifier()\n",
    "dataset = Dataset()"
   ]
  },
  {
   "cell_type": "code",
   "execution_count": 32,
   "metadata": {},
   "outputs": [],
   "source": [
    "loss_func = nn.BCEWithLogitsLoss()\n",
    "optimzer = optim.Adam(classifier.parameters(), lr=1e-3)"
   ]
  },
  {
   "cell_type": "code",
   "execution_count": 33,
   "metadata": {},
   "outputs": [],
   "source": [
    "running_loss_train = 0\n",
    "running_loss_val = 0\n",
    "running_acc_train = 0\n",
    "running_acc_val = 0"
   ]
  },
  {
   "cell_type": "code",
   "execution_count": 34,
   "metadata": {},
   "outputs": [],
   "source": [
    "history = {\n",
    "    'acc': [],\n",
    "    'loss': [],\n",
    "    'acc_val': [],\n",
    "    'loss_val': []\n",
    "}"
   ]
  },
  {
   "cell_type": "code",
   "execution_count": 35,
   "metadata": {},
   "outputs": [
    {
     "name": "stdout",
     "output_type": "stream",
     "text": [
      "epoch 0 loss_train 6.32 acc_train 83.05 loss_val 2.74 acc_val 86.15\n",
      "epoch 1 loss_train 1.96 acc_train 84.25 loss_val 1.73 acc_val 84.33\n",
      "epoch 2 loss_train 1.20 acc_train 85.09 loss_val 1.30 acc_val 84.63\n",
      "epoch 3 loss_train 0.92 acc_train 85.81 loss_val 1.18 acc_val 82.12\n",
      "epoch 4 loss_train 0.72 acc_train 86.21 loss_val 1.03 acc_val 86.40\n",
      "epoch 5 loss_train 0.64 acc_train 86.82 loss_val 0.95 acc_val 86.14\n",
      "epoch 6 loss_train 0.55 acc_train 87.47 loss_val 0.85 acc_val 85.77\n",
      "epoch 7 loss_train 0.52 acc_train 87.36 loss_val 0.89 acc_val 81.55\n",
      "epoch 8 loss_train 0.48 acc_train 87.88 loss_val 0.87 acc_val 83.21\n",
      "epoch 9 loss_train 0.44 acc_train 87.84 loss_val 0.82 acc_val 87.54\n",
      "epoch 10 loss_train 0.40 acc_train 88.39 loss_val 0.78 acc_val 85.16\n",
      "epoch 11 loss_train 0.46 acc_train 87.51 loss_val 0.77 acc_val 87.32\n",
      "epoch 12 loss_train 0.41 acc_train 88.47 loss_val 0.76 acc_val 86.18\n",
      "epoch 13 loss_train 0.35 acc_train 89.14 loss_val 0.85 acc_val 82.44\n",
      "epoch 14 loss_train 0.36 acc_train 89.15 loss_val 0.76 acc_val 86.01\n",
      "epoch 15 loss_train 0.35 acc_train 89.65 loss_val 0.80 acc_val 87.80\n",
      "epoch 16 loss_train 0.35 acc_train 89.33 loss_val 0.75 acc_val 86.28\n",
      "epoch 17 loss_train 0.34 acc_train 89.18 loss_val 0.73 acc_val 85.60\n",
      "epoch 18 loss_train 0.31 acc_train 89.92 loss_val 0.73 acc_val 83.96\n",
      "epoch 19 loss_train 0.33 acc_train 89.49 loss_val 0.71 acc_val 85.62\n",
      "epoch 20 loss_train 0.29 acc_train 90.87 loss_val 0.72 acc_val 86.88\n",
      "epoch 21 loss_train 0.29 acc_train 90.57 loss_val 0.70 acc_val 85.88\n",
      "epoch 22 loss_train 0.29 acc_train 90.47 loss_val 0.71 acc_val 86.71\n",
      "epoch 23 loss_train 0.28 acc_train 91.03 loss_val 0.74 acc_val 82.01\n",
      "epoch 24 loss_train 0.31 acc_train 89.85 loss_val 0.70 acc_val 85.60\n",
      "epoch 25 loss_train 0.28 acc_train 91.00 loss_val 0.68 acc_val 86.18\n",
      "epoch 26 loss_train 0.29 acc_train 90.78 loss_val 0.70 acc_val 86.76\n",
      "epoch 27 loss_train 0.28 acc_train 91.16 loss_val 0.69 acc_val 87.04\n",
      "epoch 28 loss_train 0.26 acc_train 91.22 loss_val 0.68 acc_val 87.13\n",
      "epoch 29 loss_train 0.29 acc_train 90.79 loss_val 0.75 acc_val 88.13\n",
      "epoch 30 loss_train 0.31 acc_train 89.78 loss_val 0.71 acc_val 83.84\n",
      "epoch 31 loss_train 0.29 acc_train 90.62 loss_val 0.74 acc_val 87.17\n",
      "epoch 32 loss_train 0.30 acc_train 90.70 loss_val 0.70 acc_val 87.34\n",
      "epoch 33 loss_train 0.27 acc_train 90.86 loss_val 0.69 acc_val 85.66\n",
      "epoch 34 loss_train 0.25 acc_train 91.67 loss_val 0.70 acc_val 87.16\n",
      "epoch 35 loss_train 0.25 acc_train 91.60 loss_val 0.69 acc_val 86.62\n",
      "epoch 36 loss_train 0.26 acc_train 91.60 loss_val 0.67 acc_val 86.74\n",
      "epoch 37 loss_train 0.27 acc_train 91.11 loss_val 0.72 acc_val 87.34\n",
      "epoch 38 loss_train 0.26 acc_train 91.50 loss_val 0.67 acc_val 87.12\n",
      "epoch 39 loss_train 0.25 acc_train 91.90 loss_val 0.68 acc_val 87.18\n",
      "epoch 40 loss_train 0.32 acc_train 89.78 loss_val 0.80 acc_val 87.37\n",
      "epoch 41 loss_train 0.28 acc_train 91.43 loss_val 0.70 acc_val 86.78\n",
      "epoch 42 loss_train 0.25 acc_train 91.67 loss_val 0.68 acc_val 86.70\n",
      "epoch 43 loss_train 0.26 acc_train 91.77 loss_val 0.70 acc_val 87.57\n",
      "epoch 44 loss_train 0.27 acc_train 91.39 loss_val 0.72 acc_val 87.61\n",
      "epoch 45 loss_train 0.25 acc_train 91.75 loss_val 0.70 acc_val 87.58\n",
      "epoch 46 loss_train 0.25 acc_train 91.82 loss_val 0.75 acc_val 87.26\n",
      "epoch 47 loss_train 0.27 acc_train 91.39 loss_val 0.69 acc_val 85.68\n",
      "epoch 48 loss_train 0.25 acc_train 91.73 loss_val 0.70 acc_val 87.30\n",
      "epoch 49 loss_train 0.25 acc_train 91.92 loss_val 0.68 acc_val 86.87\n",
      "epoch 50 loss_train 0.24 acc_train 92.15 loss_val 0.69 acc_val 86.66\n",
      "epoch 51 loss_train 0.23 acc_train 92.38 loss_val 0.72 acc_val 87.37\n",
      "epoch 52 loss_train 0.23 acc_train 92.54 loss_val 0.69 acc_val 85.16\n",
      "epoch 53 loss_train 0.24 acc_train 92.10 loss_val 0.71 acc_val 87.15\n",
      "epoch 54 loss_train 0.24 acc_train 92.46 loss_val 0.70 acc_val 87.00\n",
      "epoch 55 loss_train 0.24 acc_train 92.14 loss_val 0.68 acc_val 86.15\n",
      "epoch 56 loss_train 0.23 acc_train 92.61 loss_val 0.70 acc_val 85.45\n",
      "epoch 57 loss_train 0.22 acc_train 92.48 loss_val 0.70 acc_val 87.33\n",
      "epoch 58 loss_train 0.25 acc_train 91.53 loss_val 0.70 acc_val 86.42\n",
      "epoch 59 loss_train 0.23 acc_train 92.44 loss_val 0.74 acc_val 87.24\n",
      "epoch 60 loss_train 0.24 acc_train 92.30 loss_val 0.71 acc_val 84.66\n",
      "epoch 61 loss_train 0.27 acc_train 91.53 loss_val 0.73 acc_val 86.01\n",
      "epoch 62 loss_train 0.33 acc_train 90.36 loss_val 0.57 acc_val 86.76\n",
      "epoch 63 loss_train 0.29 acc_train 90.68 loss_val 0.60 acc_val 85.82\n",
      "epoch 64 loss_train 0.28 acc_train 91.28 loss_val 0.66 acc_val 87.54\n",
      "epoch 65 loss_train 0.25 acc_train 91.75 loss_val 0.64 acc_val 87.51\n",
      "epoch 66 loss_train 0.25 acc_train 91.78 loss_val 0.65 acc_val 85.88\n",
      "epoch 67 loss_train 0.23 acc_train 92.36 loss_val 0.69 acc_val 86.12\n",
      "epoch 68 loss_train 0.23 acc_train 92.65 loss_val 0.64 acc_val 85.97\n",
      "epoch 69 loss_train 0.22 acc_train 92.50 loss_val 0.64 acc_val 85.84\n",
      "epoch 70 loss_train 0.22 acc_train 92.49 loss_val 0.66 acc_val 86.25\n",
      "epoch 71 loss_train 0.22 acc_train 92.64 loss_val 0.67 acc_val 87.30\n",
      "epoch 72 loss_train 0.22 acc_train 92.66 loss_val 0.65 acc_val 85.70\n",
      "epoch 73 loss_train 0.22 acc_train 92.97 loss_val 0.65 acc_val 87.16\n",
      "epoch 74 loss_train 0.22 acc_train 93.04 loss_val 0.68 acc_val 85.54\n",
      "epoch 75 loss_train 0.21 acc_train 92.97 loss_val 0.66 acc_val 86.99\n",
      "epoch 76 loss_train 0.23 acc_train 92.26 loss_val 0.66 acc_val 86.83\n",
      "epoch 77 loss_train 0.25 acc_train 91.67 loss_val 0.63 acc_val 87.58\n",
      "epoch 78 loss_train 0.27 acc_train 91.57 loss_val 0.63 acc_val 86.97\n",
      "epoch 79 loss_train 0.26 acc_train 91.43 loss_val 0.65 acc_val 86.48\n",
      "epoch 80 loss_train 0.23 acc_train 92.36 loss_val 0.62 acc_val 86.55\n",
      "epoch 81 loss_train 0.22 acc_train 92.76 loss_val 0.67 acc_val 87.41\n",
      "epoch 82 loss_train 0.23 acc_train 92.40 loss_val 0.64 acc_val 86.87\n",
      "epoch 83 loss_train 0.21 acc_train 92.93 loss_val 0.64 acc_val 87.37\n",
      "epoch 84 loss_train 0.22 acc_train 92.56 loss_val 0.66 acc_val 87.68\n",
      "epoch 85 loss_train 0.22 acc_train 92.87 loss_val 0.72 acc_val 87.89\n",
      "epoch 86 loss_train 0.22 acc_train 92.91 loss_val 0.69 acc_val 87.31\n",
      "epoch 87 loss_train 0.22 acc_train 92.65 loss_val 0.65 acc_val 87.26\n",
      "epoch 88 loss_train 0.21 acc_train 93.27 loss_val 0.67 acc_val 87.17\n",
      "epoch 89 loss_train 0.20 acc_train 93.28 loss_val 0.66 acc_val 87.16\n",
      "epoch 90 loss_train 0.20 acc_train 93.61 loss_val 0.69 acc_val 85.05\n",
      "epoch 91 loss_train 0.21 acc_train 93.39 loss_val 0.69 acc_val 87.18\n",
      "epoch 92 loss_train 0.21 acc_train 93.22 loss_val 0.69 acc_val 86.60\n",
      "epoch 93 loss_train 0.22 acc_train 92.74 loss_val 0.69 acc_val 87.51\n",
      "epoch 94 loss_train 0.22 acc_train 92.68 loss_val 0.70 acc_val 87.37\n",
      "epoch 95 loss_train 0.21 acc_train 93.07 loss_val 0.73 acc_val 84.13\n",
      "epoch 96 loss_train 0.22 acc_train 92.77 loss_val 0.71 acc_val 87.25\n",
      "epoch 97 loss_train 0.21 acc_train 93.01 loss_val 0.72 acc_val 87.41\n",
      "epoch 98 loss_train 0.22 acc_train 92.69 loss_val 0.74 acc_val 88.03\n",
      "epoch 99 loss_train 0.25 acc_train 91.94 loss_val 0.71 acc_val 85.63\n"
     ]
    }
   ],
   "source": [
    "for epoch in range(100):\n",
    "    \n",
    "    classifier.train()\n",
    "    dataset.set_split('train')\n",
    "    data_gen = DataLoader(dataset=dataset, batch_size=128, shuffle=True, drop_last=False)\n",
    "    \n",
    "    for batch_index, batch_dict in enumerate(data_gen, 1):\n",
    "        \n",
    "        # step 1\n",
    "        optimzer.zero_grad()\n",
    "        \n",
    "        # step 2\n",
    "        y_pred = classifier(batch_dict['x'])\n",
    "        loss = loss_func(y_pred, batch_dict['y'].float())\n",
    "        loss_train = loss.item()\n",
    "        running_loss_train += (loss_train - running_loss_train) / batch_index\n",
    "        \n",
    "        # step 3\n",
    "        acc_train = compute_accuracy(y_pred, batch_dict['y'])\n",
    "        running_acc_train += (acc_train - running_acc_train) / batch_index\n",
    "        \n",
    "        # step 4\n",
    "        loss.backward()\n",
    "        \n",
    "        # step 5\n",
    "        optimzer.step()\n",
    "    \n",
    "    \n",
    "    classifier.eval()\n",
    "    dataset.set_split('test')\n",
    "    data_gen = DataLoader(dataset = dataset, batch_size = 128, shuffle=True, drop_last=False)\n",
    "    \n",
    "    for batch_index, batch_dict in enumerate(data_gen, 1):\n",
    "        y_pred = classifier(batch_dict['x'])\n",
    "        \n",
    "        loss = loss_func(y_pred, batch_dict['y'].float())\n",
    "        \n",
    "        running_loss_val += (loss.item() - running_loss_val) / batch_index\n",
    "        \n",
    "        acc_val = compute_accuracy(y_pred, batch_dict['y'])\n",
    "        running_acc_val += (acc_val - running_acc_val) / batch_index\n",
    "                                   \n",
    "    print(\"epoch {} loss_train {:.2f} acc_train {:.2f} loss_val {:.2f} acc_val {:.2f}\".format(\n",
    "        epoch, running_loss_train, running_acc_train, running_loss_val, running_acc_val\n",
    "    ))\n",
    "    \n",
    "    history['loss'].append(running_loss_train)\n",
    "    history['acc'].append(running_acc_train)\n",
    "    history['loss_val'].append(running_loss_val)\n",
    "    history['acc_val'].append(running_acc_val)\n"
   ]
  },
  {
   "cell_type": "code",
   "execution_count": null,
   "metadata": {},
   "outputs": [],
   "source": []
  },
  {
   "cell_type": "code",
   "execution_count": null,
   "metadata": {},
   "outputs": [],
   "source": []
  },
  {
   "cell_type": "code",
   "execution_count": null,
   "metadata": {},
   "outputs": [],
   "source": []
  },
  {
   "cell_type": "code",
   "execution_count": 46,
   "metadata": {},
   "outputs": [
    {
     "data": {
      "text/plain": [
       "<matplotlib.legend.Legend at 0x7f0aa3ea3b38>"
      ]
     },
     "execution_count": 46,
     "metadata": {},
     "output_type": "execute_result"
    },
    {
     "data": {
      "image/png": "[encoded data removed]",
      "text/plain": [
       "<Figure size 432x288 with 1 Axes>"
      ]
     },
     "metadata": {},
     "output_type": "display_data"
    }
   ],
   "source": [
    "sns.lineplot(y = history['loss'], x = list(range(len(history['loss']))), label = 'train')\n",
    "sns.lineplot(y = history['loss_val'], x = list(range(len(history['loss']))), label = 'val')\n",
    "plt.legend()"
   ]
  },
  {
   "cell_type": "code",
   "execution_count": 47,
   "metadata": {},
   "outputs": [
    {
     "data": {
      "text/plain": [
       "<matplotlib.legend.Legend at 0x7f0aa3eb7a90>"
      ]
     },
     "execution_count": 47,
     "metadata": {},
     "output_type": "execute_result"
    },
    {
     "data": {
      "image/png": "[encoded data removed]",
      "text/plain": [
       "<Figure size 432x288 with 1 Axes>"
      ]
     },
     "metadata": {},
     "output_type": "display_data"
    }
   ],
   "source": [
    "sns.lineplot(y = history['acc'], x = list(range(len(history['loss']))), label = 'train')\n",
    "sns.lineplot(y = history['acc_val'], x = list(range(len(history['loss']))), label = 'val')\n",
    "plt.legend()"
   ]
  },
  {
   "cell_type": "code",
   "execution_count": null,
   "metadata": {},
   "outputs": [],
   "source": []
  }
 ],
 "metadata": {
  "kernelspec": {
   "display_name": "Python [default]",
   "language": "python",
   "name": "python3"
  },
  "language_info": {
   "codemirror_mode": {
    "name": "ipython",
    "version": 3
   },
   "file_extension": ".py",
   "mimetype": "text/x-python",
   "name": "python",
   "nbconvert_exporter": "python",
   "pygments_lexer": "ipython3",
   "version": "3.6.8"
  }
 },
 "nbformat": 4,
 "nbformat_minor": 2
}
